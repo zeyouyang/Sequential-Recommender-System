{
 "cells": [
  {
   "cell_type": "code",
   "execution_count": null,
   "id": "1ea6356a",
   "metadata": {},
   "outputs": [],
   "source": [
    "import os\n",
    "import re\n",
    "import string\n",
    "\n",
    "import numpy as np # linear algebra\n",
    "import pandas as pd # data processing, CSV file I/O (e.g. pd.read_csv)\n",
    "\n",
    "from nltk.tokenize import WordPunctTokenizer\n",
    "from nltk.corpus import stopwords\n",
    "from nltk.stem import (SnowballStemmer)\n",
    "\n",
    "from sklearn.feature_extraction.text import CountVectorizer\n",
    "from collections import Counter"
   ]
  },
  {
   "cell_type": "code",
   "execution_count": null,
   "id": "d3d4cc26",
   "metadata": {},
   "outputs": [],
   "source": [
    "import datetime\n",
    "import math\n",
    "import numpy as np\n",
    "import torch\n",
    "from torch import nn\n",
    "from torch.nn import Module, Parameter\n",
    "import torch.nn.functional as F"
   ]
  },
  {
   "cell_type": "code",
   "execution_count": null,
   "id": "194175f9",
   "metadata": {},
   "outputs": [],
   "source": [
    "item = torch.load('C://Users//user//Desktop//王茂田//item.pt')\n",
    "duration=torch.load('C://Users//user//Desktop//王茂田//duration.pt')\n",
    "interval=torch.load('C://Users//user//Desktop//王茂田//interval.pt')"
   ]
  },
  {
   "cell_type": "code",
   "execution_count": null,
   "id": "04237d46",
   "metadata": {},
   "outputs": [],
   "source": [
    "item = item.numpy().tolist()\n",
    "duration = duration.numpy().tolist()\n",
    "interval = interval.numpy().tolist()"
   ]
  },
  {
   "cell_type": "code",
   "execution_count": null,
   "id": "ae777c9e",
   "metadata": {},
   "outputs": [],
   "source": [
    "target_item=[]\n",
    "target_duration=[]\n",
    "target_interval=[]\n",
    "\n",
    "for i in range (len(item)):\n",
    "    target_item=target_item+(item[i][-1:])\n",
    "    \n",
    "for i in range (len(duration)):\n",
    "    target_duration=target_duration+(duration[i][-1:])\n",
    "    \n",
    "for i in range (len(interval)):\n",
    "    target_interval=target_interval+(interval[i][-1:])"
   ]
  },
  {
   "cell_type": "code",
   "execution_count": null,
   "id": "1a248204",
   "metadata": {},
   "outputs": [],
   "source": [
    "input_item=[]\n",
    "input_duration=[]\n",
    "input_interval=[]\n",
    "\n",
    "for i in range (len(item)):\n",
    "    input_item.append(item[i][:-1])\n",
    "    \n",
    "for i in range (len(duration)):\n",
    "    input_duration.append(duration[i][:-1])\n",
    "    \n",
    "for i in range (len(interval)):\n",
    "    input_interval.append(interval[i][:-1])"
   ]
  },
  {
   "cell_type": "code",
   "execution_count": null,
   "id": "992ae81e",
   "metadata": {},
   "outputs": [],
   "source": [
    "lists_of_lists1=(input_item,target_item,input_duration,target_duration,input_interval,target_interval)"
   ]
  },
  {
   "cell_type": "code",
   "execution_count": null,
   "id": "8e7a9bb4",
   "metadata": {},
   "outputs": [],
   "source": []
  },
  {
   "cell_type": "code",
   "execution_count": null,
   "id": "005f3c40",
   "metadata": {},
   "outputs": [],
   "source": [
    "import argparse\n",
    "import pickle\n",
    "import time\n",
    "from utils1 import build_graph, Data, split_validation\n",
    "\n",
    "from model import *\n",
    "\n",
    "parser = argparse.ArgumentParser()\n",
    "parser.add_argument('--dataset', default='sample', help='dataset name: diginetica/yoochoose1_4/yoochoose1_64/sample')\n",
    "parser.add_argument('--batchSize', type=int, default=16, help='input batch size')\n",
    "parser.add_argument('--hiddenSize', type=int, default=128, help='hidden state size')\n",
    "parser.add_argument('--epoch', type=int, default=30, help='the number of epochs to train for')\n",
    "parser.add_argument('--lr', type=float, default=0.001, help='learning rate')  # [0.001, 0.0005, 0.0001]\n",
    "parser.add_argument('--lr_dc', type=float, default=0.1, help='learning rate decay rate')\n",
    "parser.add_argument('--lr_dc_step', type=int, default=3, help='the number of steps after which the learning rate decay')\n",
    "parser.add_argument('--l2', type=float, default=1e-5, help='l2 penalty')  # [0.001, 0.0005, 0.0001, 0.00005, 0.00001]\n",
    "parser.add_argument('--step', type=int, default=1, help='gnn propogation steps')\n",
    "parser.add_argument('--patience', type=int, default=30, help='the number of epoch to wait before early stop ')\n",
    "parser.add_argument('--nonhybrid', action='store_true', help='only use the global preference to predict')\n",
    "parser.add_argument('--validation', action='store_true', help='validation')\n",
    "parser.add_argument('--valid_portion', type=float, default=0.1, help='split the portion of training set as validation set')\n",
    "opt = parser.parse_known_args()[0]\n"
   ]
  },
  {
   "cell_type": "code",
   "execution_count": null,
   "id": "5aa51d0e",
   "metadata": {},
   "outputs": [],
   "source": [
    "import torch.optim as optim\n",
    "\n",
    "# Hyperparameters\n",
    "num_epochs = 30\n",
    "batch_size = 16\n",
    "\n",
    "num_games=776\n",
    "num_durations=21\n",
    "num_intervals=21\n",
    "game_embed_size=128\n",
    "duration_embed_size=128\n",
    "interval_embed_size=128\n",
    "hidden_size=128\n",
    "\n",
    "\n",
    "\n",
    "# Create model and optimizer\n",
    "model = SequenceModel(opt,num_games, num_durations, num_intervals, game_embed_size, duration_embed_size, interval_embed_size, hidden_size)"
   ]
  },
  {
   "cell_type": "code",
   "execution_count": null,
   "id": "74899ed7",
   "metadata": {
    "scrolled": true
   },
   "outputs": [],
   "source": [
    "model"
   ]
  },
  {
   "cell_type": "code",
   "execution_count": null,
   "id": "b0b4e3d5",
   "metadata": {},
   "outputs": [],
   "source": [
    "import random\n",
    "l1=random.sample(range(0,len(lists_of_lists1[0])),int(len(lists_of_lists1[0])*0.7))\n",
    "train_data=[[],[],[],[],[],[]]\n",
    "test_data=[[],[],[],[],[],[]]\n",
    "for i in range(len(lists_of_lists1[0])):\n",
    "    if i in set(l1):\n",
    "        train_data[0].append(lists_of_lists1[0][i])\n",
    "        train_data[1].append(lists_of_lists1[1][i])\n",
    "        train_data[2].append(lists_of_lists1[2][i])\n",
    "        train_data[3].append(lists_of_lists1[3][i])\n",
    "        train_data[4].append(lists_of_lists1[4][i])\n",
    "        train_data[5].append(lists_of_lists1[5][i])\n",
    "    else:\n",
    "        test_data[0].append(lists_of_lists1[0][i])\n",
    "        test_data[1].append(lists_of_lists1[1][i])\n",
    "        test_data[2].append(lists_of_lists1[2][i])\n",
    "        test_data[3].append(lists_of_lists1[3][i])\n",
    "        test_data[4].append(lists_of_lists1[4][i])\n",
    "        test_data[5].append(lists_of_lists1[5][i])"
   ]
  },
  {
   "cell_type": "code",
   "execution_count": null,
   "id": "39cf3d87",
   "metadata": {},
   "outputs": [],
   "source": [
    "\n",
    "train_data1 = Data(train_data, shuffle=True)\n",
    "test_data1 = Data(test_data, shuffle=False)\n",
    "start = time.time()\n",
    "\n",
    "\n",
    "\n",
    "bad_counter = 0\n",
    "for epoch in range(opt.epoch):\n",
    "    print('-------------------------------------------------------')\n",
    "    print('epoch: ', epoch)\n",
    "    hit_duration1,hit_interval1,hit_game3,mrr_game3,ndcg_game3,hit_duration2, mrr_duration2,ndcg_duration2,hit_interval2, mrr_interval2,ndcg_interval2,hit_game5,mrr_game5,ndcg_game5,hit_duration3, mrr_duration3,ndcg_duration3,hit_interval3, mrr_interval3,ndcg_interval3,hit_game10,mrr_game10,ndcg_game10,hit_duration5, mrr_duration5,ndcg_duration5,hit_interval5, mrr_interval5,ndcg_interval5= train_test(model,train_data1,test_data1)\n",
    "\n",
    "    flag = 0\n",
    "    \n",
    "    \n",
    "  \n",
    "        \n",
    "    print('game預測:')\n",
    "    print('\\tHitRate@3:\\t%.4f\\tMMR@3:\\t%.4f\\tNDCG@3:\\t%.4f\\tEpoch:\\t%d,'% (hit_game3, mrr_game3,ndcg_game3,epoch))\n",
    "    print('\\tHitRate@5:\\t%.4f\\tMMR@5:\\t%.4f\\tNDCG@5:\\t%.4f\\tEpoch:\\t%d,'% (hit_game5, mrr_game5,ndcg_game5,epoch))\n",
    "    print('\\tHitRate@10:\\t%.4f\\tMMR@10:\\t%.4f\\tNDCG@10:\\t%.4f\\tEpoch:\\t%d,'% (hit_game10, mrr_game10,ndcg_game10,epoch))\n",
    "    \n",
    "    print('Duration預測:')\n",
    "    print('\\tHitRate@1:\\t%.4f\\tEpoch:\\t%d,'% (hit_duration1,epoch))\n",
    "    print('\\tHitRate@2:\\t%.4f\\tMMR@2:\\t%.4f\\tNDCG@2:\\t%.4f\\tEpoch:\\t%d,'% (hit_duration2, mrr_duration2,ndcg_duration2,epoch))\n",
    "    print('\\tHitRate@3:\\t%.4f\\tMMR@3:\\t%.4f\\tNDCG@3:\\t%.4f\\tEpoch:\\t%d,'% (hit_duration3, mrr_duration3,ndcg_duration3,epoch))\n",
    "    print('\\tHitRate@5:\\t%.4f\\tMMR@5:\\t%.4f\\tNDCG@5:\\t%.4f\\tEpoch:\\t%d,'% (hit_duration5, mrr_duration5,ndcg_duration5,epoch))\n",
    "    \n",
    "    \n",
    "    print('interval預測:')\n",
    "    print('\\tHitRate@1:\\t%.4f\\tEpoch:\\t%d,'% (hit_interval1,epoch))\n",
    "    print('\\tHitRate@2:\\t%.4f\\tMMR@2:\\t%.4f\\tNDCG@2:\\t%.4f\\tEpoch:\\t%d,'% (hit_interval2, mrr_interval2,ndcg_interval2,epoch))\n",
    "    print('\\tHitRate@3:\\t%.4f\\tMMR@3:\\t%.4f\\tNDCG@3:\\t%.4f\\tEpoch:\\t%d,'% (hit_interval3, mrr_interval3,ndcg_interval3,epoch))\n",
    "    print('\\tHitRate@5:\\t%.4f\\tMMR@5:\\t%.4f\\tNDCG@5:\\t%.4f\\tEpoch:\\t%d,'% (hit_interval5, mrr_interval5,ndcg_interval5,epoch))\n",
    "    \n",
    "    bad_counter += 1 - flag\n",
    "    if bad_counter >= opt.patience:\n",
    "        break\n",
    "\n",
    "print('-------------------------------------------------------')\n",
    "end = time.time()\n",
    "print(\"Run time: %f s\" % (end - start))"
   ]
  },
  {
   "cell_type": "code",
   "execution_count": null,
   "id": "c2c45ff1",
   "metadata": {},
   "outputs": [],
   "source": []
  },
  {
   "cell_type": "code",
   "execution_count": null,
   "id": "e83d0f07",
   "metadata": {},
   "outputs": [],
   "source": []
  }
 ],
 "metadata": {
  "kernelspec": {
   "display_name": "cheng",
   "language": "python",
   "name": "cheng"
  },
  "language_info": {
   "codemirror_mode": {
    "name": "ipython",
    "version": 3
   },
   "file_extension": ".py",
   "mimetype": "text/x-python",
   "name": "python",
   "nbconvert_exporter": "python",
   "pygments_lexer": "ipython3",
   "version": "3.9.12"
  }
 },
 "nbformat": 4,
 "nbformat_minor": 5
}
