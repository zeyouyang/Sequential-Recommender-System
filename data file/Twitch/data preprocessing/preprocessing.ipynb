{
 "cells": [
  {
   "cell_type": "code",
   "execution_count": null,
   "id": "430085a4",
   "metadata": {},
   "outputs": [],
   "source": [
    "import os\n",
    "import re\n",
    "import string\n",
    "\n",
    "import numpy as np # linear algebra\n",
    "import pandas as pd # data processing, CSV file I/O (e.g. pd.read_csv)\n",
    "\n",
    "from nltk.tokenize import WordPunctTokenizer\n",
    "from nltk.corpus import stopwords\n",
    "from nltk.stem import SnowballStemmer\n",
    "import torch\n",
    "import numpy as np\n",
    "import pandas as pd\n",
    "import torch.optim as optim\n",
    "import torch.nn.functional as F\n",
    "import torch.nn as nn\n",
    "\n",
    "from sklearn.feature_extraction.text import CountVectorizer\n",
    "from collections import Counter"
   ]
  },
  {
   "cell_type": "code",
   "execution_count": null,
   "id": "426c974c",
   "metadata": {},
   "outputs": [],
   "source": []
  },
  {
   "cell_type": "code",
   "execution_count": null,
   "id": "e84d686d",
   "metadata": {},
   "outputs": [],
   "source": [
    "df_twitch = pd.read_csv(\"C://Users//user//Desktop//100k_a.csv\", header=None)\n",
    "df_twitch.fillna('NA', inplace=True)\n",
    "print('Final Shape: ',df_twitch.shape)"
   ]
  },
  {
   "cell_type": "code",
   "execution_count": null,
   "id": "83b4f31f",
   "metadata": {},
   "outputs": [],
   "source": [
    "df_twitch"
   ]
  },
  {
   "cell_type": "code",
   "execution_count": null,
   "id": "388b1313",
   "metadata": {},
   "outputs": [],
   "source": [
    "df_twitch.columns= ['UserId','streamId','streamerName','startTime','endTime']  #欄位名稱\n",
    "df_twitch"
   ]
  },
  {
   "cell_type": "code",
   "execution_count": null,
   "id": "2359323f",
   "metadata": {},
   "outputs": [],
   "source": [
    "df_twitch=df_twitch.drop(\"streamId\", axis = 1)  #不會用到"
   ]
  },
  {
   "cell_type": "code",
   "execution_count": null,
   "id": "ac7f1319",
   "metadata": {},
   "outputs": [],
   "source": [
    "df_twitch"
   ]
  },
  {
   "cell_type": "code",
   "execution_count": null,
   "id": "d47cc423",
   "metadata": {},
   "outputs": [],
   "source": [
    "df_twitch.insert(4, column=\"duration\", value=(df_twitch['endTime']-df_twitch['startTime']))  #duration計算"
   ]
  },
  {
   "cell_type": "code",
   "execution_count": null,
   "id": "84045e7b",
   "metadata": {
    "scrolled": false
   },
   "outputs": [],
   "source": [
    "df_twitch"
   ]
  },
  {
   "cell_type": "code",
   "execution_count": null,
   "id": "dd14e1ad",
   "metadata": {},
   "outputs": [],
   "source": [
    "from collection import Counter"
   ]
  },
  {
   "cell_type": "code",
   "execution_count": null,
   "id": "283e9a5c",
   "metadata": {},
   "outputs": [],
   "source": [
    "count_class = Counter(df_twitch[\"UserId\"])"
   ]
  },
  {
   "cell_type": "code",
   "execution_count": null,
   "id": "2e0cecdf",
   "metadata": {},
   "outputs": [],
   "source": [
    "count_class"
   ]
  },
  {
   "cell_type": "code",
   "execution_count": null,
   "id": "afabda5d",
   "metadata": {},
   "outputs": [],
   "source": [
    "df2 = pd.DataFrame({\"UserId\":count_class.keys(),\n",
    "                    \"interations\": count_class.values()})\n",
    "df2"
   ]
  },
  {
   "cell_type": "code",
   "execution_count": null,
   "id": "ad4557bb",
   "metadata": {},
   "outputs": [],
   "source": [
    "df2 = pd.DataFrame({\"UserId\":count_class.keys(),\n",
    "                    \"interations\": count_class.values()})\n",
    "fliter = (df2[\"interations\"] >= 5)\n",
    "df3=df2[fliter]    #所有使用者都超過5筆紀錄"
   ]
  },
  {
   "cell_type": "code",
   "execution_count": null,
   "id": "ce97e3c9",
   "metadata": {},
   "outputs": [],
   "source": [
    "np.mean(df2['interations'])"
   ]
  },
  {
   "cell_type": "code",
   "execution_count": null,
   "id": "7cf3f231",
   "metadata": {},
   "outputs": [],
   "source": [
    "np.max(df2['interations'])"
   ]
  },
  {
   "cell_type": "code",
   "execution_count": null,
   "id": "d019903d",
   "metadata": {},
   "outputs": [],
   "source": [
    "np.min(df2['interations'])"
   ]
  },
  {
   "cell_type": "code",
   "execution_count": null,
   "id": "66c0f10d",
   "metadata": {},
   "outputs": [],
   "source": [
    "count_class1 = Counter(df_twitch[\"streamerName\"])\n",
    "count_class1"
   ]
  },
  {
   "cell_type": "code",
   "execution_count": null,
   "id": "3eff85b7",
   "metadata": {},
   "outputs": [],
   "source": [
    "df3 = pd.DataFrame({\"streamerName\":count_class1.keys(),\n",
    "                    \"interations\": count_class1.values()})\n",
    "df3"
   ]
  },
  {
   "cell_type": "code",
   "execution_count": null,
   "id": "af2c0c86",
   "metadata": {},
   "outputs": [],
   "source": [
    "df4 = df3[df3.interations >= 15].reset_index()\n",
    "df4   "
   ]
  },
  {
   "cell_type": "code",
   "execution_count": null,
   "id": "8372cf92",
   "metadata": {},
   "outputs": [],
   "source": [
    "df_twitch.streamerName"
   ]
  },
  {
   "cell_type": "code",
   "execution_count": null,
   "id": "ba09e8a9",
   "metadata": {},
   "outputs": [],
   "source": [
    "df4.streamerName"
   ]
  },
  {
   "cell_type": "code",
   "execution_count": null,
   "id": "bb2b7f51",
   "metadata": {},
   "outputs": [],
   "source": []
  },
  {
   "cell_type": "code",
   "execution_count": null,
   "id": "22478a52",
   "metadata": {},
   "outputs": [],
   "source": [
    "#刪掉出現次數<15的項目"
   ]
  },
  {
   "cell_type": "code",
   "execution_count": null,
   "id": "5ce9c762",
   "metadata": {
    "scrolled": true
   },
   "outputs": [],
   "source": [
    "for i in df_twitch.index:\n",
    "    if df_twitch['streamerName'][i] not in set(df4['streamerName']):\n",
    "        df_twitch.drop(i ,inplace=True)\n",
    "        \n",
    "df_twitch"
   ]
  },
  {
   "cell_type": "code",
   "execution_count": null,
   "id": "eb2359ca",
   "metadata": {},
   "outputs": [],
   "source": [
    "df_twitch['id'] = range(len(df_twitch))\n",
    "df_twitch['time_d'] = np.nan\n",
    "df_twitch"
   ]
  },
  {
   "cell_type": "code",
   "execution_count": null,
   "id": "d8b7f8c0",
   "metadata": {},
   "outputs": [],
   "source": [
    "df_twitch=df_twitch.sort_values(by=['UserId','startTime'])"
   ]
  },
  {
   "cell_type": "code",
   "execution_count": null,
   "id": "bce550ce",
   "metadata": {},
   "outputs": [],
   "source": []
  },
  {
   "cell_type": "code",
   "execution_count": null,
   "id": "843310e4",
   "metadata": {},
   "outputs": [],
   "source": [
    "#interval計算"
   ]
  },
  {
   "cell_type": "code",
   "execution_count": null,
   "id": "b02fbd39",
   "metadata": {},
   "outputs": [],
   "source": [
    "import copy\n",
    "from tqdm import tqdm\n",
    "it_df = copy.deepcopy(df_twitch)\n",
    "idN = it_df['id']\n",
    "for i in tqdm(range(len(idN))):\n",
    "    if it_df['UserId'].iat[i] == it_df['UserId'].iat[i-1]:\n",
    "        it_df['time_d'].iat[i] = it_df['startTime'].iat[i] - it_df['startTime'].iat[i-1]\n",
    "    else:\n",
    "        it_df['time_d'].iat[i] = 0"
   ]
  },
  {
   "cell_type": "code",
   "execution_count": null,
   "id": "f2b6b74d",
   "metadata": {},
   "outputs": [],
   "source": [
    "it_df"
   ]
  },
  {
   "cell_type": "code",
   "execution_count": null,
   "id": "acba7eca",
   "metadata": {},
   "outputs": [],
   "source": [
    "It_df=it_df.rename(columns={'time_d':'interval'})"
   ]
  },
  {
   "cell_type": "code",
   "execution_count": null,
   "id": "7ee4da19",
   "metadata": {
    "scrolled": false
   },
   "outputs": [],
   "source": [
    "It_df"
   ]
  },
  {
   "cell_type": "code",
   "execution_count": null,
   "id": "32367aa9",
   "metadata": {},
   "outputs": [],
   "source": []
  },
  {
   "cell_type": "code",
   "execution_count": null,
   "id": "203191d6",
   "metadata": {},
   "outputs": [],
   "source": []
  },
  {
   "cell_type": "code",
   "execution_count": null,
   "id": "bace733f",
   "metadata": {},
   "outputs": [],
   "source": [
    "#將實況主名稱改成編號"
   ]
  },
  {
   "cell_type": "code",
   "execution_count": null,
   "id": "98d2838f",
   "metadata": {},
   "outputs": [],
   "source": [
    "streamer_list = It_df['streamerName'].unique().tolist()\n",
    "streamer_dict = dict() \n",
    "for index,value in enumerate(streamer_list):\n",
    "    streamer_dict[value] = index + 1\n",
    "It_df['streamerName'] = It_df['streamerName'].map(streamer_dict)\n",
    "It_df    \n"
   ]
  },
  {
   "cell_type": "code",
   "execution_count": null,
   "id": "00cfcc1a",
   "metadata": {},
   "outputs": [],
   "source": [
    "It_df=It_df.rename(columns={'streamerName':'streamerId'})\n",
    "It_df"
   ]
  },
  {
   "cell_type": "code",
   "execution_count": null,
   "id": "8cbc1972",
   "metadata": {},
   "outputs": [],
   "source": [
    "It_df"
   ]
  },
  {
   "cell_type": "code",
   "execution_count": null,
   "id": "85e2decf",
   "metadata": {},
   "outputs": [],
   "source": [
    "import copy\n",
    "from tqdm import tqdm"
   ]
  },
  {
   "cell_type": "code",
   "execution_count": null,
   "id": "4086a80e",
   "metadata": {},
   "outputs": [],
   "source": [
    "import scipy\n",
    "import statistics\n",
    "print(statistics.stdev(p))"
   ]
  },
  {
   "cell_type": "code",
   "execution_count": null,
   "id": "61369463",
   "metadata": {},
   "outputs": [],
   "source": [
    "It_df['duration'].describe()"
   ]
  },
  {
   "cell_type": "code",
   "execution_count": null,
   "id": "1786ae7e",
   "metadata": {},
   "outputs": [],
   "source": []
  },
  {
   "cell_type": "code",
   "execution_count": null,
   "id": "5b1e475f",
   "metadata": {},
   "outputs": [],
   "source": []
  },
  {
   "cell_type": "code",
   "execution_count": null,
   "id": "073c061b",
   "metadata": {},
   "outputs": [],
   "source": [
    "#interval劃分20個區間"
   ]
  },
  {
   "cell_type": "code",
   "execution_count": null,
   "id": "6be94ffb",
   "metadata": {},
   "outputs": [],
   "source": [
    "import scipy\n",
    "import statistics\n",
    "print(statistics.stdev(p))"
   ]
  },
  {
   "cell_type": "code",
   "execution_count": null,
   "id": "00ce0d8c",
   "metadata": {},
   "outputs": [],
   "source": [
    "It_df['interval'].describe()"
   ]
  },
  {
   "cell_type": "code",
   "execution_count": null,
   "id": "d647197c",
   "metadata": {},
   "outputs": [],
   "source": [
    "#計算平均跟標準差\n",
    "ps = statistics.stdev(p)\n",
    "m = statistics.mean(p)\n",
    "m = int(m)\n",
    "ps = int(ps)\n",
    "print(m,ps)"
   ]
  },
  {
   "cell_type": "code",
   "execution_count": null,
   "id": "a5d373b2",
   "metadata": {},
   "outputs": [],
   "source": [
    "import numpy\n",
    "import matplotlib.pyplot as plt\n",
    "#plt.hist(p, 100)\n",
    "statistics.median(p)"
   ]
  },
  {
   "cell_type": "code",
   "execution_count": null,
   "id": "46cb1936",
   "metadata": {},
   "outputs": [],
   "source": [
    "#得到每個分段的數值\n",
    "q1 = np.quantile(p, q=0)\n",
    "q2 = np.quantile(p, q=0.05)\n",
    "q3 = np.quantile(p, q=0.1)\n",
    "q4 = np.quantile(p, q=0.15)\n",
    "q5 = np.quantile(p, q=0.2)\n",
    "q6 = np.quantile(p, q=0.25)\n",
    "q7 = np.quantile(p, q=0.3)\n",
    "q8 = np.quantile(p, q=0.35)\n",
    "q9 = np.quantile(p, q=0.4)\n",
    "q10 = np.quantile(p, q=0.45)\n",
    "q11=np.quantile(p, q=0.5)\n",
    "q12= np.quantile(p, q=0.55)\n",
    "q13= np.quantile(p, q=0.6)\n",
    "q14= np.quantile(p, q=0.65)\n",
    "q15= np.quantile(p, q=0.7)\n",
    "q16= np.quantile(p, q=0.75)\n",
    "q17= np.quantile(p, q=0.8)\n",
    "q18= np.quantile(p, q=0.85)\n",
    "q19= np.quantile(p, q=0.9)\n",
    "q20= np.quantile(p, q=0.95)\n",
    "print(q1,q3,q5,q7,q9,q11,q13,q15,q17,q19)"
   ]
  },
  {
   "cell_type": "code",
   "execution_count": null,
   "id": "4f958092",
   "metadata": {},
   "outputs": [],
   "source": [
    "for i in tqdm(range(len(It_df['interval']))):\n",
    "    if It_df['interval'].iat[i] < q2:\n",
    "        It_df['interval'].iat[i] = 1\n",
    "    elif It_df['interval'].iat[i] >= q2 and It_df['interval'].iat[i] < q3:\n",
    "        It_df['interval'].iat[i] = 2\n",
    "    elif It_df['interval'].iat[i] >= q3 and It_df['interval'].iat[i] < q4:\n",
    "        It_df['interval'].iat[i] = 3\n",
    "    elif It_df['interval'].iat[i] >= q4 and It_df['interval'].iat[i] < q5:\n",
    "        It_df['interval'].iat[i] = 4\n",
    "    elif It_df['interval'].iat[i] >= q5 and It_df['interval'].iat[i] < q6:\n",
    "        It_df['interval'].iat[i] = 5\n",
    "    elif It_df['interval'].iat[i] >= q6 and It_df['interval'].iat[i] < q7:\n",
    "        It_df['interval'].iat[i] = 6\n",
    "    elif It_df['interval'].iat[i] >= q7 and It_df['interval'].iat[i] < q8:\n",
    "        It_df['interval'].iat[i] = 7\n",
    "    elif It_df['interval'].iat[i] >= q8 and It_df['interval'].iat[i] < q9:\n",
    "        It_df['interval'].iat[i] = 8\n",
    "    elif It_df['interval'].iat[i] >= q9 and It_df['interval'].iat[i] < q10:\n",
    "        It_df['interval'].iat[i] = 9\n",
    "    elif It_df['interval'].iat[i] >= q10 and It_df['interval'].iat[i] < q11:\n",
    "        It_df['interval'].iat[i] = 10\n",
    "    elif It_df['interval'].iat[i] >= q11 and It_df['interval'].iat[i] < q12:\n",
    "        It_df['interval'].iat[i] = 11\n",
    "    elif It_df['interval'].iat[i] >= q12 and It_df['interval'].iat[i] < q13:\n",
    "        It_df['interval'].iat[i] = 12\n",
    "    elif It_df['interval'].iat[i] >= q13 and It_df['interval'].iat[i] < q14:\n",
    "        It_df['interval'].iat[i] = 13\n",
    "    elif It_df['interval'].iat[i] >= q14 and It_df['interval'].iat[i] < q15:\n",
    "        It_df['interval'].iat[i] = 14\n",
    "    elif It_df['interval'].iat[i] >= q15 and It_df['interval'].iat[i] < q16:\n",
    "        It_df['interval'].iat[i] = 15\n",
    "    elif It_df['interval'].iat[i] >= q16 and It_df['interval'].iat[i] < q17:\n",
    "        It_df['interval'].iat[i] = 16\n",
    "    elif It_df['interval'].iat[i] >= q17 and It_df['interval'].iat[i] < q18:\n",
    "        It_df['interval'].iat[i] = 17\n",
    "    elif It_df['interval'].iat[i] >= q18 and It_df['interval'].iat[i] < q19:\n",
    "        It_df['interval'].iat[i] = 18\n",
    "    elif It_df['interval'].iat[i] >= q19 and It_df['interval'].iat[i] < q20:\n",
    "        It_df['interval'].iat[i] = 19\n",
    "    else:\n",
    "        It_df['interval'].iat[i] = 20"
   ]
  },
  {
   "cell_type": "code",
   "execution_count": null,
   "id": "7e136f51",
   "metadata": {},
   "outputs": [],
   "source": [
    "It_df"
   ]
  },
  {
   "cell_type": "code",
   "execution_count": null,
   "id": "0a83423b",
   "metadata": {},
   "outputs": [],
   "source": [
    "subset1=It_df[['UserId','streamerId','interval','duration','id']]"
   ]
  },
  {
   "cell_type": "code",
   "execution_count": null,
   "id": "ab1617de",
   "metadata": {},
   "outputs": [],
   "source": [
    "subset1"
   ]
  },
  {
   "cell_type": "code",
   "execution_count": null,
   "id": "a21d97ad",
   "metadata": {},
   "outputs": [],
   "source": []
  },
  {
   "cell_type": "code",
   "execution_count": null,
   "id": "90b02a40",
   "metadata": {},
   "outputs": [],
   "source": []
  },
  {
   "cell_type": "code",
   "execution_count": null,
   "id": "038e4ebe",
   "metadata": {
    "scrolled": true
   },
   "outputs": [],
   "source": [
    "count_class1 = Counter(subset1[\"UserId\"])\n",
    "count_class1"
   ]
  },
  {
   "cell_type": "code",
   "execution_count": null,
   "id": "95b2cece",
   "metadata": {},
   "outputs": [],
   "source": [
    "df2 = pd.DataFrame({\"UserId\":count_class1.keys(),\n",
    "                    \"interations\": count_class1.values()})\n",
    "fliter = (df2[\"interations\"] >= 70)  #刪掉紀錄<70筆記錄的用戶\n",
    "df3=df2[fliter]  "
   ]
  },
  {
   "cell_type": "code",
   "execution_count": null,
   "id": "a969e29d",
   "metadata": {},
   "outputs": [],
   "source": [
    "df3"
   ]
  },
  {
   "cell_type": "code",
   "execution_count": null,
   "id": "6c7453c9",
   "metadata": {},
   "outputs": [],
   "source": [
    "df3_userid = set(df3['UserId'])"
   ]
  },
  {
   "cell_type": "code",
   "execution_count": null,
   "id": "7810dfd0",
   "metadata": {},
   "outputs": [],
   "source": [
    "subset1= subset1[subset1['UserId'].isin(df3_userid)]"
   ]
  },
  {
   "cell_type": "code",
   "execution_count": null,
   "id": "6e6c0ee3",
   "metadata": {},
   "outputs": [],
   "source": [
    "subset1"
   ]
  },
  {
   "cell_type": "code",
   "execution_count": null,
   "id": "400b7d88",
   "metadata": {},
   "outputs": [],
   "source": []
  },
  {
   "cell_type": "code",
   "execution_count": null,
   "id": "241c629d",
   "metadata": {},
   "outputs": [],
   "source": []
  },
  {
   "cell_type": "code",
   "execution_count": null,
   "id": "6b5afec4",
   "metadata": {},
   "outputs": [],
   "source": [
    "#userid也從1開始編號"
   ]
  },
  {
   "cell_type": "code",
   "execution_count": null,
   "id": "19e8a6b9",
   "metadata": {},
   "outputs": [],
   "source": [
    "count_class1 = Counter(subset1[\"UserId\"])\n",
    "count_class1"
   ]
  },
  {
   "cell_type": "code",
   "execution_count": null,
   "id": "1f5a4dd9",
   "metadata": {},
   "outputs": [],
   "source": [
    "streamer_list = subset1['UserId'].unique().tolist()\n",
    "streamer_dict = dict() \n",
    "for index,value in enumerate(streamer_list):\n",
    "    streamer_dict[value] = index + 1\n",
    "subset1['UserId'] = subset1['UserId'].map(streamer_dict)\n",
    "subset1   \n"
   ]
  },
  {
   "cell_type": "code",
   "execution_count": null,
   "id": "e7149a01",
   "metadata": {},
   "outputs": [],
   "source": []
  },
  {
   "cell_type": "code",
   "execution_count": null,
   "id": "10555014",
   "metadata": {},
   "outputs": [],
   "source": []
  },
  {
   "cell_type": "code",
   "execution_count": null,
   "id": "f4c07ec6",
   "metadata": {},
   "outputs": [],
   "source": [
    "subset1.to_csv(\"C://Users//user//Desktop//王茂田//twitchCleaning.csv\")"
   ]
  },
  {
   "cell_type": "code",
   "execution_count": null,
   "id": "c7591b8f",
   "metadata": {},
   "outputs": [],
   "source": [
    "It_df = pd.read_csv(\"C://Users//user//Desktop//王茂田//twitchCleaning.csv\")"
   ]
  },
  {
   "cell_type": "code",
   "execution_count": null,
   "id": "dedccaa3",
   "metadata": {},
   "outputs": [],
   "source": [
    "subset1 = It_df[['UserId','streamerId','duration','interval','id']]\n",
    "\n",
    "subset1"
   ]
  },
  {
   "cell_type": "code",
   "execution_count": null,
   "id": "169b144e",
   "metadata": {},
   "outputs": [],
   "source": [
    "subset = subset1[['UserId','streamerId','duration','interval']]\n",
    "lists = [list(x) for x in subset.to_numpy()]\n",
    "\n",
    "\n",
    "#將原本的表格轉成list"
   ]
  },
  {
   "cell_type": "code",
   "execution_count": null,
   "id": "98e98ba3",
   "metadata": {},
   "outputs": [],
   "source": [
    "utdata=[]\n",
    "dudata=[]\n",
    "indata=[]\n",
    "\n",
    "\n",
    "for i in range(len(lists)):\n",
    "    utdata.append(lists[i][1])\n",
    "    dudata.append(lists[i][2])\n",
    "    indata.append(lists[i][3])\n",
    "        "
   ]
  },
  {
   "cell_type": "code",
   "execution_count": null,
   "id": "e6d1d9d8",
   "metadata": {},
   "outputs": [],
   "source": [
    "count_class = Counter(subset[\"UserId\"])"
   ]
  },
  {
   "cell_type": "code",
   "execution_count": null,
   "id": "cd680530",
   "metadata": {},
   "outputs": [],
   "source": []
  },
  {
   "cell_type": "code",
   "execution_count": null,
   "id": "8b701918",
   "metadata": {},
   "outputs": [],
   "source": []
  },
  {
   "cell_type": "code",
   "execution_count": null,
   "id": "27cffb98",
   "metadata": {},
   "outputs": [],
   "source": [
    "#讓litem、duratoin、interval的  list[i]對應到第i個用戶"
   ]
  },
  {
   "cell_type": "code",
   "execution_count": null,
   "id": "4eb54c48",
   "metadata": {},
   "outputs": [],
   "source": [
    "dataitem1=[]\n",
    "datadu1=[]\n",
    "datain1=[]\n",
    "c=0\n",
    "\n",
    "for i in range(len(count_class)+1):\n",
    "    datatd=[]\n",
    "    datate=[]\n",
    "    datatf=[]\n",
    "    if count_class[i]>0:   \n",
    "        for j in range(count_class[i]):\n",
    "            c=c+1\n",
    "            d=utdata[c-1]\n",
    "            e=dudata[c-1]\n",
    "            f=indata[c-1]\n",
    "            datatd.append(d)\n",
    "            datate.append(e)\n",
    "            datatf.append(f)\n",
    "        \n",
    "        dataitem1.append(datatd)\n",
    "        \n",
    "       \n",
    "        datadu1.append(datate)\n",
    "       \n",
    "       \n",
    "        datain1.append(datatf)\n"
   ]
  },
  {
   "cell_type": "code",
   "execution_count": null,
   "id": "6f9ddf9d",
   "metadata": {},
   "outputs": [],
   "source": [
    "#將用戶序列中近70筆紀錄用於模型輸入\n",
    "\n",
    "item=[]\n",
    "duration=[]\n",
    "interval=[]\n",
    "\n",
    "for i in range (len(dataitem1)):\n",
    "    item.append(dataitem1[i][-70:])\n",
    "\n",
    "for i in range (len(datadu1)):\n",
    "    duration.append(datadu1[i][-70:])\n",
    "\n",
    "for i in range (len(datain1)):\n",
    "    interval.append(datain1[i][-70:])"
   ]
  },
  {
   "cell_type": "code",
   "execution_count": null,
   "id": "776a89cc",
   "metadata": {},
   "outputs": [],
   "source": [
    "interval= torch.LongTensor(interval).to(torch.int64)\n",
    "duration= torch.LongTensor(duration).to(torch.int64)\n",
    "item=torch.LongTensor(item).to(torch.int64)"
   ]
  },
  {
   "cell_type": "code",
   "execution_count": null,
   "id": "55dcea9d",
   "metadata": {},
   "outputs": [],
   "source": [
    "#將數據存成pt檔\n",
    "\n",
    "torch.save(item, 'C://Users//user//Desktop//王茂田//twitch_item.pt')\n",
    "torch.save(interval, 'C://Users//user//Desktop//王茂田//twitch_interval.pt')\n",
    "torch.save(duration, 'C://Users//user//Desktop//王茂田//twitch_duration.pt')\n",
    "\n"
   ]
  },
  {
   "cell_type": "code",
   "execution_count": null,
   "id": "2f988efc",
   "metadata": {},
   "outputs": [],
   "source": []
  }
 ],
 "metadata": {
  "kernelspec": {
   "display_name": "cheng",
   "language": "python",
   "name": "cheng"
  },
  "language_info": {
   "codemirror_mode": {
    "name": "ipython",
    "version": 3
   },
   "file_extension": ".py",
   "mimetype": "text/x-python",
   "name": "python",
   "nbconvert_exporter": "python",
   "pygments_lexer": "ipython3",
   "version": "3.9.12"
  }
 },
 "nbformat": 4,
 "nbformat_minor": 5
}
