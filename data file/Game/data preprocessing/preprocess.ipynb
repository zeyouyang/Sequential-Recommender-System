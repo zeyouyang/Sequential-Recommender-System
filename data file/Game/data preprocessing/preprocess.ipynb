{
 "cells": [
  {
   "cell_type": "code",
   "execution_count": null,
   "id": "c9a287c4",
   "metadata": {},
   "outputs": [],
   "source": [
    "from torch.utils.data import DataLoader\n",
    "import torch\n",
    "\n",
    "import torch\n",
    "import numpy as np\n",
    "import pandas as pd\n",
    "import torch.optim as optim\n",
    "import torch.nn.functional as F\n",
    "import torch.nn as nn\n",
    "from timeit import default_timer as timer\n",
    "from tqdm import tqdm\n",
    "from sklearn.metrics import roc_auc_score\n",
    "import math\n",
    "from torch import Tensor\n",
    "import pickle\n",
    "from torch.autograd import Variable"
   ]
  },
  {
   "cell_type": "code",
   "execution_count": null,
   "id": "7a66a261",
   "metadata": {},
   "outputs": [],
   "source": [
    "import os\n",
    "import re\n",
    "import string\n",
    "\n",
    "import numpy as np # linear algebra\n",
    "import pandas as pd # data processing, CSV file I/O (e.g. pd.read_csv)\n",
    "\n",
    "from nltk.tokenize import WordPunctTokenizer\n",
    "from nltk.corpus import stopwords\n",
    "from nltk.stem import (SnowballStemmer)\n",
    "\n",
    "from sklearn.feature_extraction.text import CountVectorizer\n",
    "from collections import Counter"
   ]
  },
  {
   "cell_type": "code",
   "execution_count": null,
   "id": "08bf2d1c",
   "metadata": {},
   "outputs": [],
   "source": [
    "import copy\n",
    "from tqdm import tqdm"
   ]
  },
  {
   "cell_type": "code",
   "execution_count": null,
   "id": "f188c937",
   "metadata": {},
   "outputs": [],
   "source": [
    "f= open('C://Users//user//Desktop//IDLSTM-master//preprocess//data//game//tr_user-item.lst')\n",
    "utrids = []\n",
    "utrdata = []\n",
    "line = f.readline()\n",
    "i = 1\n",
    "while line:\n",
    "    print('line', i)\n",
    "    tmp=line.split(',')\n",
    "    utrids.append(tmp[0])\n",
    "    utrdata.append(tmp[1].replace('\\n', '').split(' '))\n",
    "    line = f.readline()\n",
    "    i += 1"
   ]
  },
  {
   "cell_type": "code",
   "execution_count": null,
   "id": "62ea1afa",
   "metadata": {},
   "outputs": [],
   "source": [
    "\n",
    "f= open('C://Users//user//Desktop//IDLSTM-master//preprocess//data//game//te_user-item.lst')\n",
    "uteids = []\n",
    "utedata = []\n",
    "line = f.readline()\n",
    "i = 1\n",
    "while line:\n",
    "    print('line', i)\n",
    "    tmp=line.split(',')\n",
    "    uteids.append(tmp[0])\n",
    "    utedata.append(tmp[1].replace('\\n', '').split(' '))\n",
    "    line = f.readline()\n",
    "    i += 1"
   ]
  },
  {
   "cell_type": "code",
   "execution_count": null,
   "id": "b3d44711",
   "metadata": {},
   "outputs": [],
   "source": [
    "utdata=utedata+utrdata  #將原作者前處理完的訓練資料集以及測驗資料集合併"
   ]
  },
  {
   "cell_type": "code",
   "execution_count": null,
   "id": "81385074",
   "metadata": {},
   "outputs": [],
   "source": [
    "for i in range (len(utdata)):\n",
    "    utdata[i]=list(map(int,utdata[i]))"
   ]
  },
  {
   "cell_type": "code",
   "execution_count": null,
   "id": "cd935139",
   "metadata": {},
   "outputs": [],
   "source": [
    "#讓項目編號從1開始\n",
    "\n",
    "for i in tqdm(range(len(utdata))):\n",
    "    for j,k in enumerate(utdata[i]):\n",
    "        utdata[i][j]= k+1"
   ]
  },
  {
   "cell_type": "code",
   "execution_count": null,
   "id": "248dc86d",
   "metadata": {},
   "outputs": [],
   "source": []
  },
  {
   "cell_type": "code",
   "execution_count": null,
   "id": "9f69e2c8",
   "metadata": {},
   "outputs": [],
   "source": []
  },
  {
   "cell_type": "code",
   "execution_count": null,
   "id": "2fe8a41c",
   "metadata": {},
   "outputs": [],
   "source": [
    "f= open('C://Users//user//Desktop//IDLSTM-master//preprocess//data//game//tr_user-item-duration.lst') \n",
    "dutrids = []\n",
    "dutrdata = []\n",
    "line = f.readline()\n",
    "i = 1\n",
    "while line:\n",
    "    print('line', i)\n",
    "    tmp=line.split(',')\n",
    "    dutrids.append(tmp[0])\n",
    "    dutrdata.append(tmp[1].replace('\\n', '').split(' '))\n",
    "    line = f.readline()\n",
    "    i += 1"
   ]
  },
  {
   "cell_type": "code",
   "execution_count": null,
   "id": "68b90346",
   "metadata": {},
   "outputs": [],
   "source": [
    "for i in range (len(dutrdata)):\n",
    "    dutrdata[i]=list(map(int,dutrdata[i]))"
   ]
  },
  {
   "cell_type": "code",
   "execution_count": null,
   "id": "62243670",
   "metadata": {},
   "outputs": [],
   "source": [
    "f= open('C://Users//user//Desktop//IDLSTM-master//preprocess//data//game//te_user-item-duration.lst')\n",
    "duteids = []\n",
    "dutedata = []\n",
    "line = f.readline()\n",
    "i = 1\n",
    "while line:\n",
    "    print('line', i)\n",
    "    tmp=line.split(',')\n",
    "    duteids.append(tmp[0])\n",
    "    dutedata.append(tmp[1].replace('\\n', '').split(' '))\n",
    "    line = f.readline()\n",
    "    i += 1"
   ]
  },
  {
   "cell_type": "code",
   "execution_count": null,
   "id": "d682f40f",
   "metadata": {},
   "outputs": [],
   "source": [
    "for i in range (len(dutedata)):\n",
    "    dutedata[i]=list(map(int,dutedata[i]))"
   ]
  },
  {
   "cell_type": "code",
   "execution_count": null,
   "id": "6fc41564",
   "metadata": {},
   "outputs": [],
   "source": [
    "dudata=dutedata+dutrdata #將原作者前處理完的訓練資料集以及測驗資料集合併"
   ]
  },
  {
   "cell_type": "code",
   "execution_count": null,
   "id": "6d078d24",
   "metadata": {},
   "outputs": [],
   "source": [
    "d=([i for item in dudata for i in item])"
   ]
  },
  {
   "cell_type": "code",
   "execution_count": null,
   "id": "b1bd3007",
   "metadata": {},
   "outputs": [],
   "source": [
    "import scipy\n",
    "import statistics"
   ]
  },
  {
   "cell_type": "code",
   "execution_count": null,
   "id": "6ae60600",
   "metadata": {},
   "outputs": [],
   "source": [
    "#計算平均跟標準差\n",
    "ps = statistics.stdev(d)\n",
    "m = statistics.mean(d)\n",
    "m = int(m)\n",
    "ps = int(ps)\n",
    "print(m,ps)"
   ]
  },
  {
   "cell_type": "code",
   "execution_count": null,
   "id": "b1ada3b9",
   "metadata": {},
   "outputs": [],
   "source": [
    "#得到每個分段的數值\n",
    "q1 = np.quantile(d, q=0)\n",
    "q2 = np.quantile(d, q=0.05)\n",
    "q3 = np.quantile(d, q=0.1)\n",
    "q4 = np.quantile(d, q=0.15)\n",
    "q5 = np.quantile(d, q=0.2)\n",
    "q6 = np.quantile(d, q=0.25)\n",
    "q7 = np.quantile(d, q=0.3)\n",
    "q8 = np.quantile(d, q=0.35)\n",
    "q9 = np.quantile(d, q=0.4)\n",
    "q10 = np.quantile(d, q=0.45)\n",
    "q11=np.quantile(d, q=0.5)\n",
    "q12= np.quantile(d, q=0.55)\n",
    "q13= np.quantile(d, q=0.6)\n",
    "q14= np.quantile(d, q=0.65)\n",
    "q15= np.quantile(d, q=0.7)\n",
    "q16= np.quantile(d, q=0.75)\n",
    "q17= np.quantile(d, q=0.8)\n",
    "q18= np.quantile(d, q=0.85)\n",
    "q19= np.quantile(d, q=0.9)\n",
    "q20= np.quantile(d, q=0.95)\n",
    "print(q1,q3,q5,q7,q9,q11,q13,q15,q17,q19)"
   ]
  },
  {
   "cell_type": "code",
   "execution_count": null,
   "id": "a1006373",
   "metadata": {},
   "outputs": [],
   "source": [
    "# 切割成20個分類\n",
    "for j in range(len(dudata)):\n",
    "    for i in range(len(dudata[j])):\n",
    "        if dudata[j][i] < q2:\n",
    "            dudata[j][i] = 1\n",
    "        elif dudata[j][i] >= q2 and dudata[j][i] < q3:\n",
    "            dudata[j][i] = 2\n",
    "        elif dudata[j][i] >= q3 and dudata[j][i] < q4:\n",
    "            dudata[j][i] = 3\n",
    "        elif dudata[j][i] >= q4 and dudata[j][i] < q5:\n",
    "            dudata[j][i] = 4\n",
    "        elif dudata[j][i] >= q5 and dudata[j][i] < q6:\n",
    "            dudata[j][i] = 5\n",
    "        elif dudata[j][i] >= q6 and dudata[j][i] < q7:\n",
    "            dudata[j][i] = 6\n",
    "        elif dudata[j][i] >= q7 and dudata[j][i] < q8:\n",
    "            dudata[j][i] = 7\n",
    "        elif dudata[j][i] >= q8 and dudata[j][i] < q9:\n",
    "            dudata[j][i] = 8\n",
    "        elif dudata[j][i] >= q9 and dudata[j][i] < q10:\n",
    "            dudata[j][i] = 9\n",
    "        elif dudata[j][i] >= q10 and dudata[j][i] < q11:\n",
    "            dudata[j][i] = 10\n",
    "        elif dudata[j][i] >= q11 and dudata[j][i] < q12:\n",
    "            dudata[j][i] = 11\n",
    "        elif dudata[j][i] >= q12 and dudata[j][i] < q13:\n",
    "            dudata[j][i] = 12\n",
    "        elif dudata[j][i] >= q13 and dudata[j][i] < q14:\n",
    "            dudata[j][i] = 13\n",
    "        elif dudata[j][i] >= q14 and dudata[j][i] < q15:\n",
    "            dudata[j][i] = 14\n",
    "        elif dudata[j][i] >= q15 and dudata[j][i] < q16:\n",
    "            dudata[j][i] = 15\n",
    "        elif dudata[j][i] >= q16 and dudata[j][i] < q17:\n",
    "            dudata[j][i] = 16\n",
    "        elif dudata[j][i] >= q17 and dudata[j][i] < q18:\n",
    "            dudata[j][i] = 17\n",
    "        elif dudata[j][i] >= q18 and dudata[j][i] < q19:\n",
    "            dudata[j][i] = 18\n",
    "        elif dudata[j][i] >= q19 and dudata[j][i] < q20:\n",
    "            dudata[j][i] = 19\n",
    "        else:\n",
    "            dudata[j][i] = 20"
   ]
  },
  {
   "cell_type": "code",
   "execution_count": null,
   "id": "8c0424fd",
   "metadata": {},
   "outputs": [],
   "source": []
  },
  {
   "cell_type": "code",
   "execution_count": null,
   "id": "8674f706",
   "metadata": {},
   "outputs": [],
   "source": []
  },
  {
   "cell_type": "code",
   "execution_count": null,
   "id": "72574a5d",
   "metadata": {},
   "outputs": [],
   "source": [
    "f= open('C://Users//user//Desktop//IDLSTM-master//preprocess//data//game//tr_user-item-delta-time.lst')\n",
    "intervaltrids = []\n",
    "intervaltrdata = []\n",
    "line = f.readline()\n",
    "i = 1\n",
    "while line:\n",
    "    print('line', i)\n",
    "    tmp=line.split(',')\n",
    "    intervaltrids.append(tmp[0])\n",
    "    intervaltrdata.append(tmp[1].replace('\\n', '').split(' '))\n",
    "    line = f.readline()\n",
    "    i += 1"
   ]
  },
  {
   "cell_type": "code",
   "execution_count": null,
   "id": "2e70d719",
   "metadata": {},
   "outputs": [],
   "source": [
    "for i in range (len(intervaltrdata)):\n",
    "    intervaltrdata[i]=list(map(float,intervaltrdata[i]))"
   ]
  },
  {
   "cell_type": "code",
   "execution_count": null,
   "id": "4deb0993",
   "metadata": {},
   "outputs": [],
   "source": [
    "f= open('C://Users//user//Desktop//IDLSTM-master//preprocess//data//game//te_user-item-delta-time.lst')\n",
    "intervalteids = []\n",
    "intervaltedata = []\n",
    "line = f.readline()\n",
    "i = 1\n",
    "while line:\n",
    "    print('line', i)\n",
    "    tmp=line.split(',')\n",
    "    intervalteids.append(tmp[0])\n",
    "    intervaltedata.append(tmp[1].replace('\\n', '').split(' '))\n",
    "    line = f.readline()\n",
    "    i += 1"
   ]
  },
  {
   "cell_type": "code",
   "execution_count": null,
   "id": "5773d237",
   "metadata": {},
   "outputs": [],
   "source": [
    "for i in range (len(intervaltedata)):\n",
    "    intervaltedata[i]=list(map(float,intervaltedata[i]))"
   ]
  },
  {
   "cell_type": "code",
   "execution_count": null,
   "id": "7d45694d",
   "metadata": {},
   "outputs": [],
   "source": [
    "indata=intervaltedata+intervaltrdata  #將原作者前處理完的訓練資料集以及測驗資料集合併"
   ]
  },
  {
   "cell_type": "code",
   "execution_count": null,
   "id": "ab637401",
   "metadata": {},
   "outputs": [],
   "source": [
    "def listmoveright(A,a):\n",
    "    for i in range(a):\n",
    "        A.insert(0,A.pop())\n",
    "    return A"
   ]
  },
  {
   "cell_type": "code",
   "execution_count": null,
   "id": "3026f365",
   "metadata": {},
   "outputs": [],
   "source": [
    "for i in tqdm(range(len(indata))):\n",
    "    indata[i]=listmoveright(indata[i],1)"
   ]
  },
  {
   "cell_type": "code",
   "execution_count": null,
   "id": "965915f9",
   "metadata": {},
   "outputs": [],
   "source": [
    "d=([i for item in indata for i in item])"
   ]
  },
  {
   "cell_type": "code",
   "execution_count": null,
   "id": "f190d7b1",
   "metadata": {},
   "outputs": [],
   "source": [
    "m=np.std(d)\n",
    "m"
   ]
  },
  {
   "cell_type": "code",
   "execution_count": null,
   "id": "01fb04bf",
   "metadata": {},
   "outputs": [],
   "source": [
    "#計算平均跟標準差\n",
    "ps = statistics.stdev(d)\n",
    "m = statistics.mean(d)\n",
    "m = int(m)\n",
    "ps = int(ps)\n",
    "print(m,ps)"
   ]
  },
  {
   "cell_type": "code",
   "execution_count": null,
   "id": "adfd7d97",
   "metadata": {},
   "outputs": [],
   "source": [
    "#得到每個分段的數值\n",
    "q1 = np.quantile(d, q=0)\n",
    "q2 = np.quantile(d, q=0.05)\n",
    "q3 = np.quantile(d, q=0.1)\n",
    "q4 = np.quantile(d, q=0.15)\n",
    "q5 = np.quantile(d, q=0.2)\n",
    "q6 = np.quantile(d, q=0.25)\n",
    "q7 = np.quantile(d, q=0.3)\n",
    "q8 = np.quantile(d, q=0.35)\n",
    "q9 = np.quantile(d, q=0.4)\n",
    "q10 = np.quantile(d, q=0.45)\n",
    "q11=np.quantile(d, q=0.5)\n",
    "q12= np.quantile(d, q=0.55)\n",
    "q13= np.quantile(d, q=0.6)\n",
    "q14= np.quantile(d, q=0.65)\n",
    "q15= np.quantile(d, q=0.7)\n",
    "q16= np.quantile(d, q=0.75)\n",
    "q17= np.quantile(d, q=0.8)\n",
    "q18= np.quantile(d, q=0.85)\n",
    "q19= np.quantile(d, q=0.9)\n",
    "q20= np.quantile(d, q=0.95)\n",
    "print(q1,q3,q5,q7,q9,q11,q13,q15,q17,q19)"
   ]
  },
  {
   "cell_type": "code",
   "execution_count": null,
   "id": "e65782e7",
   "metadata": {},
   "outputs": [],
   "source": [
    "# 切割成20個分類\n",
    "for j in range(len(indata)):\n",
    "    for i in range(len(indata[j])):\n",
    "        if indata[j][i] < q2:\n",
    "            indata[j][i] = 1\n",
    "        elif indata[j][i] >= q2 and indata[j][i] < q3:\n",
    "            indata[j][i] = 2\n",
    "        elif indata[j][i] >= q3 and indata[j][i] < q4:\n",
    "            indata[j][i] = 3\n",
    "        elif indata[j][i] >= q4 and indata[j][i] < q5:\n",
    "            indata[j][i] = 4\n",
    "        elif indata[j][i] >= q5 and indata[j][i] < q6:\n",
    "            indata[j][i] = 5\n",
    "        elif indata[j][i] >= q6 and indata[j][i] < q7:\n",
    "            indata[j][i] = 6\n",
    "        elif indata[j][i] >= q7 and indata[j][i] < q8:\n",
    "            indata[j][i] = 7\n",
    "        elif indata[j][i] >= q8 and indata[j][i] < q9:\n",
    "            indata[j][i] = 8\n",
    "        elif indata[j][i] >= q9 and indata[j][i] < q10:\n",
    "            indata[j][i] = 9\n",
    "        elif indata[j][i] >= q10 and indata[j][i] < q11:\n",
    "            indata[j][i] = 10\n",
    "        elif indata[j][i] >= q11 and indata[j][i] < q12:\n",
    "            indata[j][i] = 11\n",
    "        elif indata[j][i] >= q12 and indata[j][i] < q13:\n",
    "            indata[j][i] = 12\n",
    "        elif indata[j][i] >= q13 and indata[j][i] < q14:\n",
    "            indata[j][i] = 13\n",
    "        elif indata[j][i] >= q14 and indata[j][i] < q15:\n",
    "            indata[j][i] = 14\n",
    "        elif indata[j][i] >= q15 and indata[j][i] < q16:\n",
    "            indata[j][i] = 15\n",
    "        elif indata[j][i] >= q16 and indata[j][i] < q17:\n",
    "            indata[j][i] = 16\n",
    "        elif indata[j][i] >= q17 and indata[j][i] < q18:\n",
    "            indata[j][i] = 17\n",
    "        elif indata[j][i] >= q18 and indata[j][i] < q19:\n",
    "            indata[j][i] = 18\n",
    "        elif indata[j][i] >= q19 and indata[j][i] < q20:\n",
    "            indata[j][i] = 19\n",
    "        else:\n",
    "            indata[j][i] = 20"
   ]
  },
  {
   "cell_type": "code",
   "execution_count": null,
   "id": "122b5fa3",
   "metadata": {},
   "outputs": [],
   "source": [
    "e=[]\n",
    "for i in tqdm(range(len(utdata))):\n",
    "    e.append(utdata[i][-100:]) #取最近100筆"
   ]
  },
  {
   "cell_type": "code",
   "execution_count": null,
   "id": "5d6da03d",
   "metadata": {},
   "outputs": [],
   "source": [
    "du=[]\n",
    "for i in tqdm(range(len(dudata))):\n",
    "    du.append(dudata[i][-100:]) #取最近100筆"
   ]
  },
  {
   "cell_type": "code",
   "execution_count": null,
   "id": "7be5dffb",
   "metadata": {},
   "outputs": [],
   "source": [
    "interval=[]\n",
    "for i in tqdm(range(len(indata))):\n",
    "    interval.append(indata[i][-100:]) #取最近100筆"
   ]
  },
  {
   "cell_type": "code",
   "execution_count": null,
   "id": "cb447e95",
   "metadata": {},
   "outputs": [],
   "source": [
    "interval= torch.LongTensor(interval).to(torch.int64)\n",
    "duration= torch.LongTensor(du).to(torch.int64)\n",
    "item=torch.LongTensor(e).to(torch.int64)\n"
   ]
  },
  {
   "cell_type": "code",
   "execution_count": null,
   "id": "f4bc2f65",
   "metadata": {},
   "outputs": [],
   "source": [
    "#將數據存成pt檔\n",
    "\n",
    "torch.save(interval, 'C://Users//user//Desktop//王茂田//interval.pt')\n",
    "torch.save(duration, 'C://Users//user//Desktop//王茂田//duration.pt')\n",
    "torch.save(item, 'C://Users//user//Desktop//王茂田//item.pt')\n"
   ]
  },
  {
   "cell_type": "code",
   "execution_count": null,
   "id": "aa0b4632",
   "metadata": {},
   "outputs": [],
   "source": []
  },
  {
   "cell_type": "code",
   "execution_count": null,
   "id": "3ea77988",
   "metadata": {},
   "outputs": [],
   "source": []
  }
 ],
 "metadata": {
  "kernelspec": {
   "display_name": "Python 3 (ipykernel)",
   "language": "python",
   "name": "python3"
  },
  "language_info": {
   "codemirror_mode": {
    "name": "ipython",
    "version": 3
   },
   "file_extension": ".py",
   "mimetype": "text/x-python",
   "name": "python",
   "nbconvert_exporter": "python",
   "pygments_lexer": "ipython3",
   "version": "3.9.12"
  }
 },
 "nbformat": 4,
 "nbformat_minor": 5
}
